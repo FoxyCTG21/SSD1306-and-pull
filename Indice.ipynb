{
    "cells": [
        {
            "cell_type": "markdown",
            "source": [
                "Ejemplo de pantalla con pulsador. En casa pulso la interacción con la pantalla cambia."
            ],
            "metadata": {}
        },
        {
            "cell_type": "code",
            "execution_count": null,
            "source": [
                "from machine import Pin, I2C\r\n",
                "from ssd1306 import SSD1306_I2C"
            ],
            "outputs": [],
            "metadata": {}
        },
        {
            "cell_type": "markdown",
            "source": [
                "Se ingresan las librerias de la pantalla SSD1306_I2C"
            ],
            "metadata": {}
        },
        {
            "cell_type": "code",
            "execution_count": null,
            "source": [
                "i2c = I2C(0, scl=Pin(17), sda=Pin(16))\r\n",
                "oled = SSD1306_I2C(128, 64, i2c)\r\n",
                "pul = Pin(18, Pin.IN, Pin.PULL_DOWN)"
            ],
            "outputs": [],
            "metadata": {}
        },
        {
            "cell_type": "markdown",
            "source": [
                "Se asignan la pantalla con el nombre [oled] y se le indican los pines 17 y 16. Se asigna un pulsador en el pin 18 como un INT en pull down."
            ],
            "metadata": {}
        },
        {
            "cell_type": "code",
            "execution_count": null,
            "source": [
                "if pul.value() and estado_anterior == 0:\r\n",
                "        estacion += 1\r\n",
                "        estado_anterior = pul.value()\r\n",
                "    elif not pul.value() and estado_anterior == 1:\r\n",
                "        estado_anterior = 0"
            ],
            "outputs": [],
            "metadata": {}
        },
        {
            "cell_type": "markdown",
            "source": [
                "Se utiliza una forma de antirrebote, el cual, cuando se pulsa, ejecuta una vez la función del primer if. en caso de seguir pulsado no puede y se espera a que deje de pulsar."
            ],
            "metadata": {}
        }
    ],
    "metadata": {
        "orig_nbformat": 4,
        "language_info": {
            "name": "python"
        }
    },
    "nbformat": 4,
    "nbformat_minor": 2
}